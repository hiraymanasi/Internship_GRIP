{
  "nbformat": 4,
  "nbformat_minor": 0,
  "metadata": {
    "colab": {
      "name": "Untitled2.ipynb",
      "provenance": [],
      "authorship_tag": "ABX9TyN17l43Gq2asQAfDW4p7Tfj",
      "include_colab_link": true
    },
    "kernelspec": {
      "name": "python3",
      "display_name": "Python 3"
    }
  },
  "cells": [
    {
      "cell_type": "markdown",
      "metadata": {
        "id": "view-in-github",
        "colab_type": "text"
      },
      "source": [
        "<a href=\"https://colab.research.google.com/github/hiraymanasi/Internship_GRIP/blob/master/Task_2.ipynb\" target=\"_parent\"><img src=\"https://colab.research.google.com/assets/colab-badge.svg\" alt=\"Open In Colab\"/></a>"
      ]
    },
    {
      "cell_type": "markdown",
      "metadata": {
        "id": "hkge1REcNcfn",
        "colab_type": "text"
      },
      "source": [
        "**Task 2 : To Explore\n",
        "Supervised Machine Learning**"
      ]
    },
    {
      "cell_type": "markdown",
      "metadata": {
        "id": "SbzslbnCN76z",
        "colab_type": "text"
      },
      "source": [
        "To predict the percentage of\n",
        "marks that a student is expected to score based upon the\n",
        "number of hours they studied."
      ]
    },
    {
      "cell_type": "code",
      "metadata": {
        "id": "qm95xLqIJwtE",
        "colab_type": "code",
        "colab": {}
      },
      "source": [
        "import pandas as pd\n",
        "import numpy as np\n",
        "import matplotlib.pyplot as plt\n"
      ],
      "execution_count": 2,
      "outputs": []
    },
    {
      "cell_type": "code",
      "metadata": {
        "id": "5Q1CxJFkL3Sb",
        "colab_type": "code",
        "colab": {}
      },
      "source": [
        "#To import data set.\n",
        "link = \"http://bit.ly/w-data\"\n",
        "data = pd.read_csv(link)\n"
      ],
      "execution_count": 3,
      "outputs": []
    },
    {
      "cell_type": "code",
      "metadata": {
        "id": "PWpyB4u-Mfll",
        "colab_type": "code",
        "colab": {
          "base_uri": "https://localhost:8080/",
          "height": 312
        },
        "outputId": "e6458850-978b-4523-c7e3-5e02f0a89f7b"
      },
      "source": [
        "#Plotting the scatter plot:\n",
        "data.plot(x='Hours',y='Scores',style='o')\n",
        "plt.title('scatter plot of Hours Vs scores')\n",
        "plt.xlabel('Hours')\n",
        "plt.ylabel('Scores')"
      ],
      "execution_count": 4,
      "outputs": [
        {
          "output_type": "execute_result",
          "data": {
            "text/plain": [
              "Text(0, 0.5, 'Scores')"
            ]
          },
          "metadata": {
            "tags": []
          },
          "execution_count": 4
        },
        {
          "output_type": "display_data",
          "data": {
            "image/png": "[encoded data removed]",
            "text/plain": [
              "<Figure size 432x288 with 1 Axes>"
            ]
          },
          "metadata": {
            "tags": [],
            "needs_background": "light"
          }
        }
      ]
    },
    {
      "cell_type": "markdown",
      "metadata": {
        "id": "KpW7Oumj4qmb",
        "colab_type": "text"
      },
      "source": [
        "From the above scatter plot we can see the positive linear relationship between the hours of study and the secured scores."
      ]
    },
    {
      "cell_type": "code",
      "metadata": {
        "id": "2qzbu1er4pKE",
        "colab_type": "code",
        "colab": {}
      },
      "source": [
        "#Preparing the data:\n",
        "X=data.iloc[:,:-1].values\n",
        "y=data.iloc[:,1].values"
      ],
      "execution_count": 5,
      "outputs": []
    },
    {
      "cell_type": "markdown",
      "metadata": {
        "id": "-ighP2z08k12",
        "colab_type": "text"
      },
      "source": [
        "Next, we split 80% of the data to the training set while 20% of the data to test set."
      ]
    },
    {
      "cell_type": "code",
      "metadata": {
        "id": "I1u4jK696jpr",
        "colab_type": "code",
        "colab": {}
      },
      "source": [
        "# Dividing the data into train and test set:\n",
        "from sklearn.model_selection import train_test_split\n",
        "\n",
        "X_train, X_test, y_train, y_test = train_test_split(X, y, test_size=0.2, random_state=0)\n"
      ],
      "execution_count": 6,
      "outputs": []
    },
    {
      "cell_type": "code",
      "metadata": {
        "id": "cyPPtEpi-uS1",
        "colab_type": "code",
        "colab": {}
      },
      "source": [
        "# To train our algorithm\n",
        "from sklearn.linear_model import LinearRegression\n",
        "\n",
        "regressor = LinearRegression()  \n",
        "regressor.fit(X_train, y_train) "
      ],
      "execution_count": null,
      "outputs": []
    },
    {
      "cell_type": "code",
      "metadata": {
        "id": "TUwt0wBa_T2D",
        "colab_type": "code",
        "colab": {
          "base_uri": "https://localhost:8080/",
          "height": 51
        },
        "outputId": "c2d49f8a-4f30-44d1-a87e-eb434a62d920"
      },
      "source": [
        "#To retrieve the intercept:\n",
        "print(regressor.intercept_)\n",
        "#For retrieving the slope:\n",
        "print(regressor.coef_)"
      ],
      "execution_count": 8,
      "outputs": [
        {
          "output_type": "stream",
          "text": [
            "2.018160041434662\n",
            "[9.91065648]\n"
          ],
          "name": "stdout"
        }
      ]
    },
    {
      "cell_type": "markdown",
      "metadata": {
        "id": "8ZethdlR_kHy",
        "colab_type": "text"
      },
      "source": [
        "This means that for every one unit of change in hours studied, the change in the scores  is about 9.91%."
      ]
    },
    {
      "cell_type": "code",
      "metadata": {
        "id": "3GSHpzPK_bug",
        "colab_type": "code",
        "colab": {
          "base_uri": "https://localhost:8080/",
          "height": 265
        },
        "outputId": "165a0a3f-35e4-4b69-d51e-be35170f3c6f"
      },
      "source": [
        "# Plotting the regression line\n",
        "line = regressor.coef_*X+regressor.intercept_\n",
        "\n",
        "# Plotting for the test data\n",
        "plt.scatter(X, y)\n",
        "plt.plot(X, line,);\n",
        "plt.show()"
      ],
      "execution_count": 16,
      "outputs": [
        {
          "output_type": "display_data",
          "data": {
            "image/png": "[encoded data removed]",
            "text/plain": [
              "<Figure size 432x288 with 1 Axes>"
            ]
          },
          "metadata": {
            "tags": [],
            "needs_background": "light"
          }
        }
      ]
    },
    {
      "cell_type": "markdown",
      "metadata": {
        "id": "owtOrWlsAm2L",
        "colab_type": "text"
      },
      "source": [
        "we trained our algorithm so now we can predict."
      ]
    },
    {
      "cell_type": "code",
      "metadata": {
        "id": "iMuhFtBnAjfG",
        "colab_type": "code",
        "colab": {}
      },
      "source": [
        "y_prd = regressor.predict(X_test)"
      ],
      "execution_count": 10,
      "outputs": []
    },
    {
      "cell_type": "markdown",
      "metadata": {
        "id": "f0J_dOhUBpGL",
        "colab_type": "text"
      },
      "source": [
        "we now compare these predicted scores to actual scores."
      ]
    },
    {
      "cell_type": "code",
      "metadata": {
        "id": "HUGF312sBTuq",
        "colab_type": "code",
        "colab": {
          "base_uri": "https://localhost:8080/",
          "height": 204
        },
        "outputId": "18bd81a1-8659-44aa-b4aa-68add171b824"
      },
      "source": [
        "data_frame= pd.DataFrame({'Actual': y_test, 'Predicted': y_prd})\n",
        "data_frame"
      ],
      "execution_count": 11,
      "outputs": [
        {
          "output_type": "execute_result",
          "data": {
            "text/html": [
              "<div>\n",
              "<style scoped>\n",
              "    .dataframe tbody tr th:only-of-type {\n",
              "        vertical-align: middle;\n",
              "    }\n",
              "\n",
              "    .dataframe tbody tr th {\n",
              "        vertical-align: top;\n",
              "    }\n",
              "\n",
              "    .dataframe thead th {\n",
              "        text-align: right;\n",
              "    }\n",
              "</style>\n",
              "<table border=\"1\" class=\"dataframe\">\n",
              "  <thead>\n",
              "    <tr style=\"text-align: right;\">\n",
              "      <th></th>\n",
              "      <th>Actual</th>\n",
              "      <th>Predicted</th>\n",
              "    </tr>\n",
              "  </thead>\n",
              "  <tbody>\n",
              "    <tr>\n",
              "      <th>0</th>\n",
              "      <td>20</td>\n",
              "      <td>16.884145</td>\n",
              "    </tr>\n",
              "    <tr>\n",
              "      <th>1</th>\n",
              "      <td>27</td>\n",
              "      <td>33.732261</td>\n",
              "    </tr>\n",
              "    <tr>\n",
              "      <th>2</th>\n",
              "      <td>69</td>\n",
              "      <td>75.357018</td>\n",
              "    </tr>\n",
              "    <tr>\n",
              "      <th>3</th>\n",
              "      <td>30</td>\n",
              "      <td>26.794801</td>\n",
              "    </tr>\n",
              "    <tr>\n",
              "      <th>4</th>\n",
              "      <td>62</td>\n",
              "      <td>60.491033</td>\n",
              "    </tr>\n",
              "  </tbody>\n",
              "</table>\n",
              "</div>"
            ],
            "text/plain": [
              "   Actual  Predicted\n",
              "0      20  16.884145\n",
              "1      27  33.732261\n",
              "2      69  75.357018\n",
              "3      30  26.794801\n",
              "4      62  60.491033"
            ]
          },
          "metadata": {
            "tags": []
          },
          "execution_count": 11
        }
      ]
    },
    {
      "cell_type": "markdown",
      "metadata": {
        "id": "Haso6jC4By0j",
        "colab_type": "text"
      },
      "source": [
        "Our main aim is to predict the percentage of marks that a student is expected to score if he studied for 9.25 hours."
      ]
    },
    {
      "cell_type": "code",
      "metadata": {
        "id": "nnmrA4XyCLOx",
        "colab_type": "code",
        "colab": {
          "base_uri": "https://localhost:8080/",
          "height": 51
        },
        "outputId": "3d72e619-769b-4eca-d1f4-f98c1c0ee76f"
      },
      "source": [
        "given_hours= 9.25\n",
        "score_prd= regressor.predict([[given_hours]])\n",
        "print(\"No of Hours = {}\".format(given_hours))\n",
        "print(\"Predicted Score = {}\".format(score_prd[0]))"
      ],
      "execution_count": 12,
      "outputs": [
        {
          "output_type": "stream",
          "text": [
            "No of Hours = 9.25\n",
            "Predicted Score = 93.69173248737539\n"
          ],
          "name": "stdout"
        }
      ]
    },
    {
      "cell_type": "markdown",
      "metadata": {
        "id": "8isBjaklKdty",
        "colab_type": "text"
      },
      "source": [
        ""
      ]
    },
    {
      "cell_type": "code",
      "metadata": {
        "id": "RthFkD5KIV3a",
        "colab_type": "code",
        "colab": {}
      },
      "source": [
        "#Evaluating Model:\n",
        "from sklearn import metrics   "
      ],
      "execution_count": null,
      "outputs": []
    },
    {
      "cell_type": "markdown",
      "metadata": {
        "id": "NdAEIRscMXen",
        "colab_type": "text"
      },
      "source": [
        "Model evaluation is very important to understand the performance of your model and to compare it with other models. There are 3 main metrics for model evaluation in regression : Mean absolute error, Mean squared error, and Root Mean squared error."
      ]
    },
    {
      "cell_type": "code",
      "metadata": {
        "id": "vok_thB2K9YN",
        "colab_type": "code",
        "colab": {
          "base_uri": "https://localhost:8080/",
          "height": 68
        },
        "outputId": "d2e2b0db-d3a1-4650-b5e9-4d98c1ce7499"
      },
      "source": [
        "print('Mean Absolute Error:', metrics.mean_absolute_error(y_test, y_prd))  \n",
        "print('Mean Squared Error:', metrics.mean_squared_error(y_test, y_prd))  \n",
        "print('Root Mean Squared Error:', np.sqrt(metrics.mean_squared_error(y_test, y_prd)))\n"
      ],
      "execution_count": 19,
      "outputs": [
        {
          "output_type": "stream",
          "text": [
            "Mean Absolute Error: 4.183859899002982\n",
            "Mean Squared Error: 21.598769307217456\n",
            "Root Mean Squared Error: 4.647447612100373\n"
          ],
          "name": "stdout"
        }
      ]
    }
  ]
}